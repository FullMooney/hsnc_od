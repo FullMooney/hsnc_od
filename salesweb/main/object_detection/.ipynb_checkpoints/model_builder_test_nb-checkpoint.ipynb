{
 "cells": [
  {
   "cell_type": "code",
   "execution_count": 5,
   "metadata": {},
   "outputs": [
    {
     "name": "stderr",
     "output_type": "stream",
     "text": [
      "E\n",
      "======================================================================\n",
      "ERROR: C:\\Users\\PC\\AppData\\Roaming\\jupyter\\runtime\\kernel-a6f94e50-07b1-48b5-924c-c97a4973fd4d (unittest.loader._FailedTest)\n",
      "----------------------------------------------------------------------\n",
      "AttributeError: module '__main__' has no attribute 'C:\\Users\\PC\\AppData\\Roaming\\jupyter\\runtime\\kernel-a6f94e50-07b1-48b5-924c-c97a4973fd4d'\n",
      "\n",
      "----------------------------------------------------------------------\n",
      "Ran 1 test in 0.011s\n",
      "\n",
      "FAILED (errors=1)\n"
     ]
    },
    {
     "ename": "SystemExit",
     "evalue": "True",
     "output_type": "error",
     "traceback": [
      "An exception has occurred, use %tb to see the full traceback.\n",
      "\u001b[1;31mSystemExit\u001b[0m\u001b[1;31m:\u001b[0m True\n"
     ]
    },
    {
     "name": "stderr",
     "output_type": "stream",
     "text": [
      "C:\\ProgramData\\Anaconda3\\envs\\hsncml01\\lib\\site-packages\\IPython\\core\\interactiveshell.py:2870: UserWarning: To exit: use 'exit', 'quit', or Ctrl-D.\n",
      "  warn(\"To exit: use 'exit', 'quit', or Ctrl-D.\", stacklevel=1)\n"
     ]
    }
   ],
   "source": [
    "# Copyright 2017 The TensorFlow Authors. All Rights Reserved.\n",
    "#\n",
    "# Licensed under the Apache License, Version 2.0 (the \"License\");\n",
    "# you may not use this file except in compliance with the License.\n",
    "# You may obtain a copy of the License at\n",
    "#\n",
    "#     http://www.apache.org/licenses/LICENSE-2.0\n",
    "#\n",
    "# Unless required by applicable law or agreed to in writing, software\n",
    "# distributed under the License is distributed on an \"AS IS\" BASIS,\n",
    "# WITHOUT WARRANTIES OR CONDITIONS OF ANY KIND, either express or implied.\n",
    "# See the License for the specific language governing permissions and\n",
    "# limitations under the License.\n",
    "# ==============================================================================\n",
    "\n",
    "\"\"\"Tests for matcher_builder.\"\"\"\n",
    "\n",
    "import tensorflow as tf\n",
    "import sys\n",
    "\n",
    "sys.path.append(\"..\")\n",
    "from google.protobuf import text_format\n",
    "from object_detection.builders import matcher_builder\n",
    "from object_detection.matchers import argmax_matcher\n",
    "from object_detection.matchers import bipartite_matcher\n",
    "from object_detection.protos import matcher_pb2\n",
    "\n",
    "\n",
    "class MatcherBuilderTest(tf.test.TestCase):\n",
    "\n",
    "  def test_build_arg_max_matcher_with_defaults(self):\n",
    "    matcher_text_proto = \"\"\"\n",
    "      argmax_matcher {\n",
    "      }\n",
    "    \"\"\"\n",
    "    matcher_proto = matcher_pb2.Matcher()\n",
    "    text_format.Merge(matcher_text_proto, matcher_proto)\n",
    "    matcher_object = matcher_builder.build(matcher_proto)\n",
    "    self.assertTrue(isinstance(matcher_object, argmax_matcher.ArgMaxMatcher))\n",
    "    self.assertAlmostEqual(matcher_object._matched_threshold, 0.5)\n",
    "    self.assertAlmostEqual(matcher_object._unmatched_threshold, 0.5)\n",
    "    self.assertTrue(matcher_object._negatives_lower_than_unmatched)\n",
    "    self.assertFalse(matcher_object._force_match_for_each_row)\n",
    "\n",
    "  def test_build_arg_max_matcher_without_thresholds(self):\n",
    "    matcher_text_proto = \"\"\"\n",
    "      argmax_matcher {\n",
    "        ignore_thresholds: true\n",
    "      }\n",
    "    \"\"\"\n",
    "    matcher_proto = matcher_pb2.Matcher()\n",
    "    text_format.Merge(matcher_text_proto, matcher_proto)\n",
    "    matcher_object = matcher_builder.build(matcher_proto)\n",
    "    self.assertTrue(isinstance(matcher_object, argmax_matcher.ArgMaxMatcher))\n",
    "    self.assertEqual(matcher_object._matched_threshold, None)\n",
    "    self.assertEqual(matcher_object._unmatched_threshold, None)\n",
    "    self.assertTrue(matcher_object._negatives_lower_than_unmatched)\n",
    "    self.assertFalse(matcher_object._force_match_for_each_row)\n",
    "\n",
    "  def test_build_arg_max_matcher_with_non_default_parameters(self):\n",
    "    matcher_text_proto = \"\"\"\n",
    "      argmax_matcher {\n",
    "        matched_threshold: 0.7\n",
    "        unmatched_threshold: 0.3\n",
    "        negatives_lower_than_unmatched: false\n",
    "        force_match_for_each_row: true\n",
    "        use_matmul_gather: true\n",
    "      }\n",
    "    \"\"\"\n",
    "    matcher_proto = matcher_pb2.Matcher()\n",
    "    text_format.Merge(matcher_text_proto, matcher_proto)\n",
    "    matcher_object = matcher_builder.build(matcher_proto)\n",
    "    self.assertTrue(isinstance(matcher_object, argmax_matcher.ArgMaxMatcher))\n",
    "    self.assertAlmostEqual(matcher_object._matched_threshold, 0.7)\n",
    "    self.assertAlmostEqual(matcher_object._unmatched_threshold, 0.3)\n",
    "    self.assertFalse(matcher_object._negatives_lower_than_unmatched)\n",
    "    self.assertTrue(matcher_object._force_match_for_each_row)\n",
    "    self.assertTrue(matcher_object._use_matmul_gather)\n",
    "\n",
    "  def test_build_bipartite_matcher(self):\n",
    "    matcher_text_proto = \"\"\"\n",
    "      bipartite_matcher {\n",
    "      }\n",
    "    \"\"\"\n",
    "    matcher_proto = matcher_pb2.Matcher()\n",
    "    text_format.Merge(matcher_text_proto, matcher_proto)\n",
    "    matcher_object = matcher_builder.build(matcher_proto)\n",
    "    self.assertTrue(\n",
    "        isinstance(matcher_object, bipartite_matcher.GreedyBipartiteMatcher))\n",
    "\n",
    "  def test_raise_error_on_empty_matcher(self):\n",
    "    matcher_text_proto = \"\"\"\n",
    "    \"\"\"\n",
    "    matcher_proto = matcher_pb2.Matcher()\n",
    "    text_format.Merge(matcher_text_proto, matcher_proto)\n",
    "    with self.assertRaises(ValueError):\n",
    "      matcher_builder.build(matcher_proto)\n",
    "\n",
    "\n",
    "if __name__ == '__main__':\n",
    "  tf.test.main()\n"
   ]
  },
  {
   "cell_type": "code",
   "execution_count": null,
   "metadata": {
    "collapsed": true
   },
   "outputs": [],
   "source": []
  }
 ],
 "metadata": {
  "kernelspec": {
   "display_name": "Python 3",
   "language": "python",
   "name": "python3"
  },
  "language_info": {
   "codemirror_mode": {
    "name": "ipython",
    "version": 3
   },
   "file_extension": ".py",
   "mimetype": "text/x-python",
   "name": "python",
   "nbconvert_exporter": "python",
   "pygments_lexer": "ipython3",
   "version": "3.6.2"
  }
 },
 "nbformat": 4,
 "nbformat_minor": 2
}
